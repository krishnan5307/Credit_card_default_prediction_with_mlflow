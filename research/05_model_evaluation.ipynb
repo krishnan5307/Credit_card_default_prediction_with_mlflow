{
 "cells": [
  {
   "cell_type": "code",
   "execution_count": 1,
   "metadata": {},
   "outputs": [],
   "source": [
    "import os"
   ]
  },
  {
   "cell_type": "code",
   "execution_count": 2,
   "metadata": {},
   "outputs": [
    {
     "data": {
      "text/plain": [
       "'d:\\\\Bappy\\\\YouTube\\\\End-to-end-Machine-Learning-Project-with-MLflow\\\\research'"
      ]
     },
     "execution_count": 2,
     "metadata": {},
     "output_type": "execute_result"
    }
   ],
   "source": [
    "%pwd"
   ]
  },
  {
   "cell_type": "code",
   "execution_count": 3,
   "metadata": {},
   "outputs": [],
   "source": [
    "os.chdir(\"../\")"
   ]
  },
  {
   "cell_type": "code",
   "execution_count": 4,
   "metadata": {},
   "outputs": [
    {
     "data": {
      "text/plain": [
       "'d:\\\\Bappy\\\\YouTube\\\\End-to-end-Machine-Learning-Project-with-MLflow'"
      ]
     },
     "execution_count": 4,
     "metadata": {},
     "output_type": "execute_result"
    }
   ],
   "source": [
    "%pwd"
   ]
  },
  {
   "cell_type": "code",
   "execution_count": 5,
   "metadata": {},
   "outputs": [],
   "source": [
    "os.environ[\"MLFLOW_TRACKING_URI\"]=\"https://dagshub.com/entbappy/End-to-end-Machine-Learning-Project-with-MLflow.mlflow\"\n",
    "os.environ[\"MLFLOW_TRACKING_USERNAME\"]=\"entbappy\"\n",
    "os.environ[\"MLFLOW_TRACKING_PASSWORD\"]=\"6824692c47a369aa6f9eac5b10041d5c8edbcef0\""
   ]
  },
  {
   "cell_type": "code",
   "execution_count": 12,
   "metadata": {},
   "outputs": [],
   "source": [
    "from dataclasses import dataclass\n",
    "from pathlib import Path\n",
    "\n",
    "\n",
    "@dataclass(frozen=True)\n",
    "class ModelEvaluationConfig:\n",
    "    root_dir: Path\n",
    "    test_data_path: Path\n",
    "    model_path: Path\n",
    "    all_params: dict\n",
    "    metric_file_name: Path\n",
    "    target_column: str\n",
    "    mlflow_uri: str\n"
   ]
  },
  {
   "cell_type": "code",
   "execution_count": 13,
   "metadata": {},
   "outputs": [],
   "source": [
    "from mlProject.constants import *\n",
    "from mlProject.utils.common import read_yaml, create_directories, save_json"
   ]
  },
  {
   "cell_type": "code",
   "execution_count": 14,
   "metadata": {},
   "outputs": [],
   "source": [
    "class ConfigurationManager:\n",
    "    def __init__(\n",
    "        self,\n",
    "        config_filepath = CONFIG_FILE_PATH,\n",
    "        params_filepath = PARAMS_FILE_PATH,\n",
    "        schema_filepath = SCHEMA_FILE_PATH):\n",
    "\n",
    "        self.config = read_yaml(config_filepath)\n",
    "        self.params = read_yaml(params_filepath)\n",
    "        self.schema = read_yaml(schema_filepath)\n",
    "\n",
    "        create_directories([self.config.artifacts_root])\n",
    "\n",
    "    \n",
    "    def get_model_evaluation_config(self) -> ModelEvaluationConfig:\n",
    "        config = self.config.model_evaluation\n",
    "        params = self.params.ElasticNet\n",
    "        schema =  self.schema.TARGET_COLUMN\n",
    "\n",
    "        create_directories([config.root_dir])\n",
    "\n",
    "        model_evaluation_config = ModelEvaluationConfig(\n",
    "            root_dir=config.root_dir,\n",
    "            test_data_path=config.test_data_path,\n",
    "            model_path = config.model_path,\n",
    "            all_params=params,\n",
    "            metric_file_name = config.metric_file_name,\n",
    "            target_column = schema.name,\n",
    "            mlflow_uri=\"https://dagshub.com/entbappy/End-to-end-Machine-Learning-Project-with-MLflow.mlflow\",\n",
    "           \n",
    "        )\n",
    "\n",
    "        return model_evaluation_config\n"
   ]
  },
  {
   "cell_type": "code",
   "execution_count": 15,
   "metadata": {},
   "outputs": [],
   "source": [
    "import os\n",
    "import pandas as pd\n",
    "from sklearn.metrics import mean_squared_error, mean_absolute_error, r2_score\n",
    "from urllib.parse import urlparse\n",
    "import mlflow\n",
    "import mlflow.sklearn\n",
    "import numpy as np\n",
    "import joblib"
   ]
  },
  {
   "cell_type": "code",
   "execution_count": 16,
   "metadata": {},
   "outputs": [],
   "source": [
    "class ModelEvaluation:\n",
    "    def __init__(self, config: ModelEvaluationConfig):\n",
    "        self.config = config\n",
    "\n",
    "    \n",
    "    def eval_metrics(self,actual, pred):\n",
    "        rmse = np.sqrt(mean_squared_error(actual, pred))\n",
    "        mae = mean_absolute_error(actual, pred)\n",
    "        r2 = r2_score(actual, pred)\n",
    "        return rmse, mae, r2\n",
    "    \n",
    "\n",
    "\n",
    "    def log_into_mlflow(self):\n",
    "\n",
    "        test_data = pd.read_csv(self.config.test_data_path)\n",
    "        model = joblib.load(self.config.model_path)\n",
    "\n",
    "        test_x = test_data.drop([self.config.target_column], axis=1)\n",
    "        test_y = test_data[[self.config.target_column]]\n",
    "\n",
    "\n",
    "        mlflow.set_registry_uri(self.config.mlflow_uri)\n",
    "        tracking_url_type_store = urlparse(mlflow.get_tracking_uri()).scheme\n",
    "\n",
    "\n",
    "        with mlflow.start_run():\n",
    "\n",
    "            predicted_qualities = model.predict(test_x)\n",
    "\n",
    "            (rmse, mae, r2) = self.eval_metrics(test_y, predicted_qualities)\n",
    "            \n",
    "            # Saving metrics as local\n",
    "            scores = {\"rmse\": rmse, \"mae\": mae, \"r2\": r2}\n",
    "            save_json(path=Path(self.config.metric_file_name), data=scores)\n",
    "\n",
    "            mlflow.log_params(self.config.all_params)\n",
    "\n",
    "            mlflow.log_metric(\"rmse\", rmse)\n",
    "            mlflow.log_metric(\"r2\", r2)\n",
    "            mlflow.log_metric(\"mae\", mae)\n",
    "\n",
    "\n",
    "            # Model registry does not work with file store\n",
    "            if tracking_url_type_store != \"file\":\n",
    "\n",
    "                # Register the model\n",
    "                # There are other ways to use the Model Registry, which depends on the use case,\n",
    "                # please refer to the doc for more information:\n",
    "                # https://mlflow.org/docs/latest/model-registry.html#api-workflow\n",
    "                mlflow.sklearn.log_model(model, \"model\", registered_model_name=\"ElasticnetModel\")\n",
    "            else:\n",
    "                mlflow.sklearn.log_model(model, \"model\")\n",
    "\n",
    "    \n"
   ]
  },
  {
   "cell_type": "code",
   "execution_count": 17,
   "metadata": {},
   "outputs": [
    {
     "name": "stdout",
     "output_type": "stream",
     "text": [
      "[2023-07-11 20:31:23,825: INFO: common: yaml file: config\\config.yaml loaded successfully]\n",
      "[2023-07-11 20:31:23,827: INFO: common: yaml file: params.yaml loaded successfully]\n",
      "[2023-07-11 20:31:23,830: INFO: common: yaml file: schema.yaml loaded successfully]\n",
      "[2023-07-11 20:31:23,832: INFO: common: created directory at: artifacts]\n",
      "[2023-07-11 20:31:23,833: INFO: common: created directory at: artifacts/model_evaluation]\n",
      "[2023-07-11 20:31:24,272: INFO: common: json file saved at: artifacts\\model_evaluation\\metrics.json]\n"
     ]
    },
    {
     "name": "stderr",
     "output_type": "stream",
     "text": [
      "Registered model 'ElasticnetModel' already exists. Creating a new version of this model...\n",
      "2023/07/11 20:31:32 INFO mlflow.tracking._model_registry.client: Waiting up to 300 seconds for model version to finish creation.                     Model name: ElasticnetModel, version 2\n",
      "Created version '2' of model 'ElasticnetModel'.\n"
     ]
    }
   ],
   "source": [
    "try:\n",
    "    config = ConfigurationManager()\n",
    "    model_evaluation_config = config.get_model_evaluation_config()\n",
    "    model_evaluation_config = ModelEvaluation(config=model_evaluation_config)\n",
    "    model_evaluation_config.log_into_mlflow()\n",
    "except Exception as e:\n",
    "    raise e"
   ]
  },
  {
   "cell_type": "code",
   "execution_count": null,
   "metadata": {},
   "outputs": [],
   "source": []
  },
  {
   "cell_type": "code",
   "execution_count": 1,
   "metadata": {},
   "outputs": [
    {
     "name": "stdout",
     "output_type": "stream",
     "text": [
      "Collecting python-dotenv\n",
      "  Downloading python_dotenv-1.0.0-py3-none-any.whl (19 kB)\n",
      "Installing collected packages: python-dotenv\n",
      "Successfully installed python-dotenv-1.0.0\n"
     ]
    }
   ],
   "source": [
    "!pip install python-dotenv"
   ]
  },
  {
   "cell_type": "code",
   "execution_count": 5,
   "metadata": {},
   "outputs": [
    {
     "data": {
      "text/plain": [
       "'c:\\\\data science\\\\Internship projects\\\\credit card defaulters\\\\Credit_card_default_prediction_with_mlflow'"
      ]
     },
     "execution_count": 5,
     "metadata": {},
     "output_type": "execute_result"
    }
   ],
   "source": [
    "%pwd"
   ]
  },
  {
   "cell_type": "code",
   "execution_count": 4,
   "metadata": {},
   "outputs": [],
   "source": [
    "import os\n",
    "os.chdir(\"../\")"
   ]
  },
  {
   "cell_type": "code",
   "execution_count": 7,
   "metadata": {},
   "outputs": [
    {
     "name": "stdout",
     "output_type": "stream",
     "text": [
      "Requirement already satisfied: mlflow in c:\\data science\\internship projects\\credit card defaulters\\credit_card_default_prediction_with_mlflow\\venv\\lib\\site-packages (2.2.2)\n",
      "Requirement already satisfied: click<9,>=7.0 in c:\\data science\\internship projects\\credit card defaulters\\credit_card_default_prediction_with_mlflow\\venv\\lib\\site-packages (from mlflow) (8.1.6)\n",
      "Requirement already satisfied: cloudpickle<3 in c:\\data science\\internship projects\\credit card defaulters\\credit_card_default_prediction_with_mlflow\\venv\\lib\\site-packages (from mlflow) (2.2.1)\n",
      "Requirement already satisfied: databricks-cli<1,>=0.8.7 in c:\\data science\\internship projects\\credit card defaulters\\credit_card_default_prediction_with_mlflow\\venv\\lib\\site-packages (from mlflow) (0.17.7)\n",
      "Requirement already satisfied: entrypoints<1 in c:\\data science\\internship projects\\credit card defaulters\\credit_card_default_prediction_with_mlflow\\venv\\lib\\site-packages (from mlflow) (0.4)\n",
      "Requirement already satisfied: gitpython<4,>=2.1.0 in c:\\data science\\internship projects\\credit card defaulters\\credit_card_default_prediction_with_mlflow\\venv\\lib\\site-packages (from mlflow) (3.1.32)\n",
      "Requirement already satisfied: pyyaml<7,>=5.1 in c:\\data science\\internship projects\\credit card defaulters\\credit_card_default_prediction_with_mlflow\\venv\\lib\\site-packages (from mlflow) (6.0.1)\n",
      "Requirement already satisfied: protobuf<5,>=3.12.0 in c:\\data science\\internship projects\\credit card defaulters\\credit_card_default_prediction_with_mlflow\\venv\\lib\\site-packages (from mlflow) (4.23.4)\n",
      "Requirement already satisfied: pytz<2023 in c:\\data science\\internship projects\\credit card defaulters\\credit_card_default_prediction_with_mlflow\\venv\\lib\\site-packages (from mlflow) (2022.7.1)\n",
      "Requirement already satisfied: requests<3,>=2.17.3 in c:\\data science\\internship projects\\credit card defaulters\\credit_card_default_prediction_with_mlflow\\venv\\lib\\site-packages (from mlflow) (2.31.0)\n",
      "Requirement already satisfied: packaging<24 in c:\\data science\\internship projects\\credit card defaulters\\credit_card_default_prediction_with_mlflow\\venv\\lib\\site-packages (from mlflow) (23.1)\n",
      "Requirement already satisfied: importlib-metadata!=4.7.0,<7,>=3.7.0 in c:\\data science\\internship projects\\credit card defaulters\\credit_card_default_prediction_with_mlflow\\venv\\lib\\site-packages (from mlflow) (6.8.0)\n",
      "Requirement already satisfied: sqlparse<1,>=0.4.0 in c:\\data science\\internship projects\\credit card defaulters\\credit_card_default_prediction_with_mlflow\\venv\\lib\\site-packages (from mlflow) (0.4.4)\n",
      "Requirement already satisfied: alembic<2 in c:\\data science\\internship projects\\credit card defaulters\\credit_card_default_prediction_with_mlflow\\venv\\lib\\site-packages (from mlflow) (1.11.2)\n",
      "Requirement already satisfied: docker<7,>=4.0.0 in c:\\data science\\internship projects\\credit card defaulters\\credit_card_default_prediction_with_mlflow\\venv\\lib\\site-packages (from mlflow) (6.1.3)\n",
      "Requirement already satisfied: Flask<3 in c:\\data science\\internship projects\\credit card defaulters\\credit_card_default_prediction_with_mlflow\\venv\\lib\\site-packages (from mlflow) (2.3.2)\n",
      "Requirement already satisfied: numpy<2 in c:\\data science\\internship projects\\credit card defaulters\\credit_card_default_prediction_with_mlflow\\venv\\lib\\site-packages (from mlflow) (1.24.4)\n",
      "Requirement already satisfied: scipy<2 in c:\\data science\\internship projects\\credit card defaulters\\credit_card_default_prediction_with_mlflow\\venv\\lib\\site-packages (from mlflow) (1.11.1)\n",
      "Requirement already satisfied: pandas<3 in c:\\data science\\internship projects\\credit card defaulters\\credit_card_default_prediction_with_mlflow\\venv\\lib\\site-packages (from mlflow) (2.0.3)\n",
      "Requirement already satisfied: querystring-parser<2 in c:\\data science\\internship projects\\credit card defaulters\\credit_card_default_prediction_with_mlflow\\venv\\lib\\site-packages (from mlflow) (1.2.4)\n",
      "Requirement already satisfied: sqlalchemy<3,>=1.4.0 in c:\\data science\\internship projects\\credit card defaulters\\credit_card_default_prediction_with_mlflow\\venv\\lib\\site-packages (from mlflow) (2.0.19)\n",
      "Requirement already satisfied: scikit-learn<2 in c:\\data science\\internship projects\\credit card defaulters\\credit_card_default_prediction_with_mlflow\\venv\\lib\\site-packages (from mlflow) (1.0.2)\n",
      "Requirement already satisfied: pyarrow<12,>=4.0.0 in c:\\data science\\internship projects\\credit card defaulters\\credit_card_default_prediction_with_mlflow\\venv\\lib\\site-packages (from mlflow) (10.0.1)\n",
      "Requirement already satisfied: shap<1,>=0.40 in c:\\data science\\internship projects\\credit card defaulters\\credit_card_default_prediction_with_mlflow\\venv\\lib\\site-packages (from mlflow) (0.42.1)\n",
      "Requirement already satisfied: markdown<4,>=3.3 in c:\\data science\\internship projects\\credit card defaulters\\credit_card_default_prediction_with_mlflow\\venv\\lib\\site-packages (from mlflow) (3.4.4)\n",
      "Requirement already satisfied: matplotlib<4 in c:\\data science\\internship projects\\credit card defaulters\\credit_card_default_prediction_with_mlflow\\venv\\lib\\site-packages (from mlflow) (3.7.2)\n",
      "Requirement already satisfied: waitress<3 in c:\\data science\\internship projects\\credit card defaulters\\credit_card_default_prediction_with_mlflow\\venv\\lib\\site-packages (from mlflow) (2.1.2)\n",
      "Requirement already satisfied: Jinja2<4,>=3.0 in c:\\data science\\internship projects\\credit card defaulters\\credit_card_default_prediction_with_mlflow\\venv\\lib\\site-packages (from mlflow) (3.1.2)\n",
      "Requirement already satisfied: Mako in c:\\data science\\internship projects\\credit card defaulters\\credit_card_default_prediction_with_mlflow\\venv\\lib\\site-packages (from alembic<2->mlflow) (1.2.4)\n",
      "Requirement already satisfied: typing-extensions>=4 in c:\\data science\\internship projects\\credit card defaulters\\credit_card_default_prediction_with_mlflow\\venv\\lib\\site-packages (from alembic<2->mlflow) (4.7.1)\n",
      "Requirement already satisfied: colorama in c:\\data science\\internship projects\\credit card defaulters\\credit_card_default_prediction_with_mlflow\\venv\\lib\\site-packages (from click<9,>=7.0->mlflow) (0.4.6)\n",
      "Requirement already satisfied: pyjwt>=1.7.0 in c:\\data science\\internship projects\\credit card defaulters\\credit_card_default_prediction_with_mlflow\\venv\\lib\\site-packages (from databricks-cli<1,>=0.8.7->mlflow) (2.8.0)\n",
      "Requirement already satisfied: oauthlib>=3.1.0 in c:\\data science\\internship projects\\credit card defaulters\\credit_card_default_prediction_with_mlflow\\venv\\lib\\site-packages (from databricks-cli<1,>=0.8.7->mlflow) (3.2.2)\n",
      "Requirement already satisfied: tabulate>=0.7.7 in c:\\data science\\internship projects\\credit card defaulters\\credit_card_default_prediction_with_mlflow\\venv\\lib\\site-packages (from databricks-cli<1,>=0.8.7->mlflow) (0.9.0)\n",
      "Requirement already satisfied: six>=1.10.0 in c:\\data science\\internship projects\\credit card defaulters\\credit_card_default_prediction_with_mlflow\\venv\\lib\\site-packages (from databricks-cli<1,>=0.8.7->mlflow) (1.16.0)\n",
      "Requirement already satisfied: urllib3<2.0.0,>=1.26.7 in c:\\data science\\internship projects\\credit card defaulters\\credit_card_default_prediction_with_mlflow\\venv\\lib\\site-packages (from databricks-cli<1,>=0.8.7->mlflow) (1.26.16)\n",
      "Requirement already satisfied: websocket-client>=0.32.0 in c:\\data science\\internship projects\\credit card defaulters\\credit_card_default_prediction_with_mlflow\\venv\\lib\\site-packages (from docker<7,>=4.0.0->mlflow) (1.6.1)\n",
      "Requirement already satisfied: pywin32>=304 in c:\\data science\\internship projects\\credit card defaulters\\credit_card_default_prediction_with_mlflow\\venv\\lib\\site-packages (from docker<7,>=4.0.0->mlflow) (306)\n",
      "Requirement already satisfied: Werkzeug>=2.3.3 in c:\\data science\\internship projects\\credit card defaulters\\credit_card_default_prediction_with_mlflow\\venv\\lib\\site-packages (from Flask<3->mlflow) (2.3.6)\n",
      "Requirement already satisfied: itsdangerous>=2.1.2 in c:\\data science\\internship projects\\credit card defaulters\\credit_card_default_prediction_with_mlflow\\venv\\lib\\site-packages (from Flask<3->mlflow) (2.1.2)\n",
      "Requirement already satisfied: blinker>=1.6.2 in c:\\data science\\internship projects\\credit card defaulters\\credit_card_default_prediction_with_mlflow\\venv\\lib\\site-packages (from Flask<3->mlflow) (1.6.2)\n",
      "Requirement already satisfied: gitdb<5,>=4.0.1 in c:\\data science\\internship projects\\credit card defaulters\\credit_card_default_prediction_with_mlflow\\venv\\lib\\site-packages (from gitpython<4,>=2.1.0->mlflow) (4.0.10)\n",
      "Requirement already satisfied: zipp>=0.5 in c:\\data science\\internship projects\\credit card defaulters\\credit_card_default_prediction_with_mlflow\\venv\\lib\\site-packages (from importlib-metadata!=4.7.0,<7,>=3.7.0->mlflow) (3.16.2)\n",
      "Requirement already satisfied: MarkupSafe>=2.0 in c:\\data science\\internship projects\\credit card defaulters\\credit_card_default_prediction_with_mlflow\\venv\\lib\\site-packages (from Jinja2<4,>=3.0->mlflow) (2.1.3)\n",
      "Requirement already satisfied: contourpy>=1.0.1 in c:\\data science\\internship projects\\credit card defaulters\\credit_card_default_prediction_with_mlflow\\venv\\lib\\site-packages (from matplotlib<4->mlflow) (1.1.0)\n",
      "Requirement already satisfied: cycler>=0.10 in c:\\data science\\internship projects\\credit card defaulters\\credit_card_default_prediction_with_mlflow\\venv\\lib\\site-packages (from matplotlib<4->mlflow) (0.11.0)\n",
      "Requirement already satisfied: fonttools>=4.22.0 in c:\\data science\\internship projects\\credit card defaulters\\credit_card_default_prediction_with_mlflow\\venv\\lib\\site-packages (from matplotlib<4->mlflow) (4.42.0)\n",
      "Requirement already satisfied: kiwisolver>=1.0.1 in c:\\data science\\internship projects\\credit card defaulters\\credit_card_default_prediction_with_mlflow\\venv\\lib\\site-packages (from matplotlib<4->mlflow) (1.4.4)\n",
      "Requirement already satisfied: pillow>=6.2.0 in c:\\data science\\internship projects\\credit card defaulters\\credit_card_default_prediction_with_mlflow\\venv\\lib\\site-packages (from matplotlib<4->mlflow) (10.0.0)\n",
      "Requirement already satisfied: pyparsing<3.1,>=2.3.1 in c:\\data science\\internship projects\\credit card defaulters\\credit_card_default_prediction_with_mlflow\\venv\\lib\\site-packages (from matplotlib<4->mlflow) (3.0.9)\n",
      "Requirement already satisfied: python-dateutil>=2.7 in c:\\data science\\internship projects\\credit card defaulters\\credit_card_default_prediction_with_mlflow\\venv\\lib\\site-packages (from matplotlib<4->mlflow) (2.8.2)\n",
      "Requirement already satisfied: importlib-resources>=3.2.0 in c:\\data science\\internship projects\\credit card defaulters\\credit_card_default_prediction_with_mlflow\\venv\\lib\\site-packages (from matplotlib<4->mlflow) (6.0.0)\n",
      "Requirement already satisfied: tzdata>=2022.1 in c:\\data science\\internship projects\\credit card defaulters\\credit_card_default_prediction_with_mlflow\\venv\\lib\\site-packages (from pandas<3->mlflow) (2023.3)\n",
      "Requirement already satisfied: charset-normalizer<4,>=2 in c:\\data science\\internship projects\\credit card defaulters\\credit_card_default_prediction_with_mlflow\\venv\\lib\\site-packages (from requests<3,>=2.17.3->mlflow) (3.2.0)\n",
      "Requirement already satisfied: idna<4,>=2.5 in c:\\data science\\internship projects\\credit card defaulters\\credit_card_default_prediction_with_mlflow\\venv\\lib\\site-packages (from requests<3,>=2.17.3->mlflow) (3.4)\n",
      "Requirement already satisfied: certifi>=2017.4.17 in c:\\data science\\internship projects\\credit card defaulters\\credit_card_default_prediction_with_mlflow\\venv\\lib\\site-packages (from requests<3,>=2.17.3->mlflow) (2023.7.22)\n",
      "Requirement already satisfied: joblib>=0.11 in c:\\data science\\internship projects\\credit card defaulters\\credit_card_default_prediction_with_mlflow\\venv\\lib\\site-packages (from scikit-learn<2->mlflow) (1.3.1)\n",
      "Requirement already satisfied: threadpoolctl>=2.0.0 in c:\\data science\\internship projects\\credit card defaulters\\credit_card_default_prediction_with_mlflow\\venv\\lib\\site-packages (from scikit-learn<2->mlflow) (3.2.0)\n",
      "Requirement already satisfied: tqdm>=4.27.0 in c:\\data science\\internship projects\\credit card defaulters\\credit_card_default_prediction_with_mlflow\\venv\\lib\\site-packages (from shap<1,>=0.40->mlflow) (4.65.0)\n",
      "Requirement already satisfied: slicer==0.0.7 in c:\\data science\\internship projects\\credit card defaulters\\credit_card_default_prediction_with_mlflow\\venv\\lib\\site-packages (from shap<1,>=0.40->mlflow) (0.0.7)\n",
      "Requirement already satisfied: numba in c:\\data science\\internship projects\\credit card defaulters\\credit_card_default_prediction_with_mlflow\\venv\\lib\\site-packages (from shap<1,>=0.40->mlflow) (0.57.1)\n",
      "Requirement already satisfied: greenlet!=0.4.17 in c:\\data science\\internship projects\\credit card defaulters\\credit_card_default_prediction_with_mlflow\\venv\\lib\\site-packages (from sqlalchemy<3,>=1.4.0->mlflow) (2.0.2)\n",
      "Requirement already satisfied: smmap<6,>=3.0.1 in c:\\data science\\internship projects\\credit card defaulters\\credit_card_default_prediction_with_mlflow\\venv\\lib\\site-packages (from gitdb<5,>=4.0.1->gitpython<4,>=2.1.0->mlflow) (5.0.0)\n",
      "Requirement already satisfied: llvmlite<0.41,>=0.40.0dev0 in c:\\data science\\internship projects\\credit card defaulters\\credit_card_default_prediction_with_mlflow\\venv\\lib\\site-packages (from numba->shap<1,>=0.40->mlflow) (0.40.1)\n"
     ]
    }
   ],
   "source": [
    "!pip install mlflow"
   ]
  },
  {
   "cell_type": "code",
   "execution_count": 13,
   "metadata": {},
   "outputs": [],
   "source": [
    "mlflow_uri= \"https://dagshub.com/krishnan5307/Credit_card_default_prediction_with_mlflow.mlflow\""
   ]
  },
  {
   "cell_type": "code",
   "execution_count": 17,
   "metadata": {},
   "outputs": [],
   "source": [
    "import mlflow\n",
    "from urllib.parse import urlparse"
   ]
  },
  {
   "cell_type": "code",
   "execution_count": 18,
   "metadata": {},
   "outputs": [],
   "source": [
    "mlflow.set_registry_uri(mlflow_uri)\n",
    "tracking_url_type_store = urlparse(mlflow.get_tracking_uri()).scheme"
   ]
  },
  {
   "cell_type": "code",
   "execution_count": 20,
   "metadata": {},
   "outputs": [
    {
     "data": {
      "text/plain": [
       "'https'"
      ]
     },
     "execution_count": 20,
     "metadata": {},
     "output_type": "execute_result"
    }
   ],
   "source": [
    "tracking_url_type_store"
   ]
  },
  {
   "cell_type": "code",
   "execution_count": 19,
   "metadata": {},
   "outputs": [
    {
     "name": "stdout",
     "output_type": "stream",
     "text": [
      "Main program execution\n",
      "successfully running mlflow\n"
     ]
    }
   ],
   "source": [
    "import os\n",
    "from dotenv import load_dotenv\n",
    "\n",
    "# Load mlflow environment variables from configuration file\n",
    "load_dotenv('mlflow.env')\n",
    "\n",
    "# Your main program goes here\n",
    "def main():\n",
    "    # Your application logic\n",
    "    print(\"Main program execution\")\n",
    "\n",
    "   # with mlflow\n",
    "    with mlflow.start_run():\n",
    "        print(\"successfully running mlflow\")      \n",
    "\n",
    "if __name__ == \"__main__\":\n",
    "    # Execute the main program\n",
    "    main()\n"
   ]
  },
  {
   "cell_type": "code",
   "execution_count": null,
   "metadata": {},
   "outputs": [],
   "source": [
    "os.environ[\"MLFLOW_TRACKING_URI\"]=\"\"\n",
    "os.environ[\"MLFLOW_TRACKING_USERNAME\"]=\"\"\n",
    "os.environ[\"MLFLOW_TRACKING_PASSWORD\"]=\"\""
   ]
  }
 ],
 "metadata": {
  "kernelspec": {
   "display_name": "mlproj",
   "language": "python",
   "name": "python3"
  },
  "language_info": {
   "codemirror_mode": {
    "name": "ipython",
    "version": 3
   },
   "file_extension": ".py",
   "mimetype": "text/x-python",
   "name": "python",
   "nbconvert_exporter": "python",
   "pygments_lexer": "ipython3",
   "version": "3.9.0"
  },
  "orig_nbformat": 4
 },
 "nbformat": 4,
 "nbformat_minor": 2
}
